{
 "cells": [
  {
   "cell_type": "code",
   "execution_count": 1,
   "metadata": {},
   "outputs": [],
   "source": [
    "import pandas as pd"
   ]
  },
  {
   "cell_type": "code",
   "execution_count": 2,
   "metadata": {},
   "outputs": [],
   "source": [
    "df = pd.read_csv(\n",
    "    r\"C:\\Users\\JinXuanchen\\Documents\\RandLA-Net_demo\\semantic3d\\original_data\\Area_1.labels\",\n",
    "    header=None,\n",
    "    sep=\" \",\n",
    ")\n"
   ]
  },
  {
   "cell_type": "code",
   "execution_count": 3,
   "metadata": {},
   "outputs": [
    {
     "data": {
      "text/plain": [
       "1        66573\n",
       "2       823023\n",
       "3        26974\n",
       "4       368786\n",
       "5        72067\n",
       "6       281681\n",
       "7        93343\n",
       "8        18543\n",
       "9       110276\n",
       "10      604010\n",
       "11    11489723\n",
       "12      436841\n",
       "13      450647\n",
       "14     1046499\n",
       "15     2093115\n",
       "16     2338025\n",
       "17      903673\n",
       "18     1726232\n",
       "19      228066\n",
       "dtype: int64"
      ]
     },
     "execution_count": 3,
     "metadata": {},
     "output_type": "execute_result"
    }
   ],
   "source": [
    "df.value_counts(sort=False)"
   ]
  }
 ],
 "metadata": {
  "kernelspec": {
   "display_name": "Python 3.9.13 ('RandLA')",
   "language": "python",
   "name": "python3"
  },
  "language_info": {
   "codemirror_mode": {
    "name": "ipython",
    "version": 3
   },
   "file_extension": ".py",
   "mimetype": "text/x-python",
   "name": "python",
   "nbconvert_exporter": "python",
   "pygments_lexer": "ipython3",
   "version": "3.9.13"
  },
  "orig_nbformat": 4,
  "vscode": {
   "interpreter": {
    "hash": "a5103e1dd75b79559fd97343b33fce1403e1e927954ea485aaf5bce59da25880"
   }
  }
 },
 "nbformat": 4,
 "nbformat_minor": 2
}
